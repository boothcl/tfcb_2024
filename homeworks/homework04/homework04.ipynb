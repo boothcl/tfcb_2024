{
 "cells": [
  {
   "attachments": {},
   "cell_type": "markdown",
   "metadata": {},
   "source": [
    "# __Homework 4:__ Practical analysis with BioPython"
   ]
  },
  {
   "attachments": {},
   "cell_type": "markdown",
   "metadata": {},
   "source": [
    "For the homework, you are going to extend the code from the analysis of our FASTQ file in lectures 8 and 9.\n",
    "Recall that the FASTQ file contains reads from a real sequencing run of influenza virus HA and NA genes.\n",
    "\n",
    "---\n",
    "The __actual sequences__ are as follows:\n",
    "\n",
    "    5'-[end of HA]-AGGCGGCCGC-[16 X N barcode]-3'\n",
    "or \n",
    "\n",
    "    5'-[end of NA]-AGGCGGCCGC-[16 X N barcode]-3'\n",
    "---\n",
    "\n",
    "\n",
    "__The end of NA is__ `...CACGATAGATAAATAATAGTGCACCAT`\n",
    "    \n",
    "__The end of HA is__ `...CCGGATTTGCATATAATGATGCACCAT`\n",
    "\n",
    "---    \n",
    "\n",
    "    \n",
    "The __sequencing reads__ from the reverse end of the molecules (in 5'>3' orientation), so the sequencing reads are as follows:\n",
    "\n",
    "    5'-[reverse complement of 16 X N barcode]-GCGGCCGCCT-[reverse complement of the end of HA]-3'\n",
    "or\n",
    "\n",
    "    5'-[reverse complement of 16 X N barcode]-GCGGCCGCCT-[reverse complement of the end of NA]-3'\n",
    "\n",
    "---   \n",
    "    \n",
    "The reads can originate from **either** HA or NA, and that will be distinguished by the most 3' end of the read.\n",
    "But in our example exercise in class, we did not distinguish among reads matching to HA and NA, as we didn't even look far enough into the read to tell the identity.\n",
    "\n",
    "For the homework, your goal is to write code that extends the material from lectures 8 and 9 to also distinguish between HA and NA.\n",
    "This homework can be completed almost entirely by re-using code from lecture 9. You will need to set up your analysis to do the following:\n",
    " 1. Get the reverse complement of each read.\n",
    " 2. Determine if it matches the expected pattern for HA and NA, and if so which one.\n",
    " 3. If it matches, extract the barcode and add it to a dictionary to keep track of counts.\n",
    " 4. Determine the number and distribution of barcodes for HA and NA separately.\n",
    "\n",
    "Please include code to address each of the following questions. Please include code comments to explain what your code is attempting to accomplish. Don't forget to include references to the sources you used to obtain your answer, including your classmates (if you are working in groups).  "
   ]
  },
  {
   "cell_type": "code",
   "execution_count": 1,
   "metadata": {},
   "outputs": [],
   "source": [
    "import Bio.SeqIO\n",
    "import Bio.Seq\n",
    "import re"
   ]
  },
  {
   "cell_type": "code",
   "execution_count": 2,
   "metadata": {},
   "outputs": [],
   "source": [
    "# read in file using BioSeq into a list\n",
    "# reference - lecture 9\n",
    "reads = Bio.SeqIO.parse('barcodes_R1.fastq', format='fastq')\n",
    "seqreads = list(reads)"
   ]
  },
  {
   "cell_type": "code",
   "execution_count": 3,
   "metadata": {},
   "outputs": [],
   "source": [
    "# set up regex patterns for ends of NA and HA sequences\n",
    "pattern_NA = re.compile('CACGATAGATAAATAATAGTGCACCAT')\n",
    "pattern_HA = re.compile('CCGGATTTGCATATAATGATGCACCAT')\n",
    "\n",
    "# set up barcode regex pattern\n",
    "pattern_barcode = re.compile('AGGCGGCCGC(?P<barcode>[ATGC]{16})')\n",
    "\n",
    "# initialize barcode dictionaries\n",
    "barcodes_NA = {}\n",
    "barcodes_HA = {}\n",
    "\n",
    "# initialize NA and HA counts\n",
    "count_NA = 0\n",
    "count_HA = 0\n",
    "\n",
    "# go through sequences\n",
    "for seqread in seqreads:\n",
    "    # get reverse complement of sequence\n",
    "    revseq = str(seqread.seq.reverse_complement())\n",
    "    # check if NA\n",
    "    if pattern_NA.search(revseq):\n",
    "        # add one to count for NA\n",
    "        count_NA += 1\n",
    "        # get barcode\n",
    "        barcode_search = pattern_barcode.search(revseq)\n",
    "        if barcode_search:\n",
    "            barcode = barcode_search.group('barcode')\n",
    "        else:\n",
    "            # if a valid barcode isn't found, count it in the dictionary as \"No valid barcode\"\n",
    "            barcode = 'No valid barcode'\n",
    "        # add to barcode to dictionary\n",
    "        if barcode in barcodes_NA:\n",
    "            barcodes_NA[barcode] += 1\n",
    "        else:\n",
    "            barcodes_NA[barcode] = 1\n",
    "    # check if HA\n",
    "    elif pattern_HA.search(revseq):\n",
    "        # add one to count for HA\n",
    "        count_HA += 1\n",
    "        # get barcode\n",
    "        barcode_search = pattern_barcode.search(revseq)\n",
    "        if barcode_search:\n",
    "            barcode = barcode_search.group('barcode')\n",
    "        else:\n",
    "            # if a valid barcode isn't found, count it in the dictionary as \"No valid barcode\"\n",
    "            barcode = 'No valid barcode'\n",
    "        # add to barcode to dictionary\n",
    "        if barcode in barcodes_HA:\n",
    "            barcodes_HA[barcode] += 1\n",
    "        else:\n",
    "            barcodes_HA[barcode] = 1"
   ]
  },
  {
   "cell_type": "markdown",
   "metadata": {},
   "source": [
    "1. How many reads map to HA, and how many reads map to NA?"
   ]
  },
  {
   "cell_type": "code",
   "execution_count": 4,
   "metadata": {},
   "outputs": [
    {
     "name": "stdout",
     "output_type": "stream",
     "text": [
      "5409 sequences map to HA\n",
      "4122 sequences match to NA\n"
     ]
    }
   ],
   "source": [
    "print(count_HA, 'sequences map to HA')\n",
    "print(count_NA, 'sequences match to NA')"
   ]
  },
  {
   "attachments": {},
   "cell_type": "markdown",
   "metadata": {},
   "source": [
    "2. How many HA sequences did not have a valid barcode? Also anwer the same question for NA."
   ]
  },
  {
   "cell_type": "code",
   "execution_count": 5,
   "metadata": {},
   "outputs": [
    {
     "name": "stdout",
     "output_type": "stream",
     "text": [
      "160 HA sequences do not have a valid barcode\n",
      "213 NA sequences do not have a valid barcode\n"
     ]
    }
   ],
   "source": [
    "print(barcodes_HA['No valid barcode'], 'HA sequences do not have a valid barcode')\n",
    "print(barcodes_NA['No valid barcode'], 'NA sequences do not have a valid barcode')"
   ]
  },
  {
   "attachments": {},
   "cell_type": "markdown",
   "metadata": {},
   "source": [
    "3. What is the HA barcode with the most counts (and how many counts)? Also answer the same question for NA.\n",
    "\n",
    "    _Hint: you will need to find the key associated with the maximum value in your dictionary. There are many ways to do this._"
   ]
  },
  {
   "cell_type": "code",
   "execution_count": 6,
   "metadata": {},
   "outputs": [
    {
     "name": "stdout",
     "output_type": "stream",
     "text": [
      "The HA barcode with the most counts is CCCGACCCGACATTAA with 155 counts\n",
      "The NA barcode with the most counts is ACCAGTTCTCCCCGGG with 152 counts\n"
     ]
    }
   ],
   "source": [
    "# Initialize max count and corresponding barcode variables\n",
    "max_count_HA = 0\n",
    "max_barcode_HA = ''\n",
    "# Iterate through barcodes in dictionary\n",
    "for barcode in barcodes_HA:\n",
    "    # ignore the 'No valid barcode' entry in dict\n",
    "    if barcode == 'No valid barcode':\n",
    "        continue\n",
    "    # Check if larger than current largest barcode count\n",
    "    if barcodes_HA[barcode] > max_count_HA:\n",
    "        max_count_HA = barcodes_HA[barcode]\n",
    "        max_barcode_HA = barcode\n",
    "\n",
    "# Initialize max count and corresponding barcode variables\n",
    "max_count_NA = 0\n",
    "max_barcode_NA = ''\n",
    "# Iterate through barcodes in dictionary\n",
    "for barcode in barcodes_NA:\n",
    "    # ignore the 'No valid barcode' entry in dict\n",
    "    if barcode == 'No valid barcode':\n",
    "        continue\n",
    "    # Check if larger than current largest barcode count\n",
    "    if barcodes_NA[barcode] > max_count_NA:\n",
    "        max_count_NA = barcodes_NA[barcode]\n",
    "        max_barcode_NA = barcode\n",
    "\n",
    "print(\"The HA barcode with the most counts is\", max_barcode_HA, \"with\", max_count_HA, \"counts\")\n",
    "print(\"The NA barcode with the most counts is\", max_barcode_NA, \"with\", max_count_NA, \"counts\")"
   ]
  },
  {
   "cell_type": "markdown",
   "metadata": {},
   "source": [
    "Also tried to find a shorter way to do this..."
   ]
  },
  {
   "cell_type": "code",
   "execution_count": 10,
   "metadata": {},
   "outputs": [
    {
     "name": "stdout",
     "output_type": "stream",
     "text": [
      "The HA barcode with the most counts is CCCGACCCGACATTAA with 155 counts\n",
      "The NA barcode with the most counts is ACCAGTTCTCCCCGGG with 152 counts\n"
     ]
    }
   ],
   "source": [
    "# for this, used a solution from https://www.geeksforgeeks.org/python-get-key-with-maximum-value-in-dictionary/\n",
    "\n",
    "# remove 'No valid barcode' first\n",
    "# https://stackoverflow.com/questions/11277432/how-can-i-remove-a-key-from-a-python-dictionary\n",
    "barcodes_HA.pop('No valid barcode', None)\n",
    "barcodes_NA.pop('No valid barcode', None)\n",
    "\n",
    "# use max() function to get max value\n",
    "max_HA = max(zip(barcodes_HA.values(), barcodes_HA.keys()))\n",
    "max_NA = max(zip(barcodes_NA.values(), barcodes_NA.keys()))\n",
    "\n",
    "print(\"The HA barcode with the most counts is\", max_HA[1], \"with\", max_HA[0], \"counts\")\n",
    "print(\"The NA barcode with the most counts is\", max_NA[1], \"with\", max_NA[0], \"counts\")"
   ]
  }
 ],
 "metadata": {
  "kernelspec": {
   "display_name": "base",
   "language": "python",
   "name": "python3"
  },
  "language_info": {
   "codemirror_mode": {
    "name": "ipython",
    "version": 3
   },
   "file_extension": ".py",
   "mimetype": "text/x-python",
   "name": "python",
   "nbconvert_exporter": "python",
   "pygments_lexer": "ipython3",
   "version": "3.9.12"
  },
  "toc": {
   "nav_menu": {},
   "number_sections": false,
   "sideBar": true,
   "skip_h1_title": false,
   "toc_cell": false,
   "toc_position": {
    "height": "623.8px",
    "left": "0px",
    "right": "829.6px",
    "top": "33.2px",
    "width": "322.4px"
   },
   "toc_section_display": "block",
   "toc_window_display": true
  }
 },
 "nbformat": 4,
 "nbformat_minor": 2
}
