{
 "cells": [
  {
   "cell_type": "markdown",
   "id": "a3aee033-5aeb-43a8-bb8b-cfb69fc7a690",
   "metadata": {},
   "source": [
    "***Total: 42 points***\n",
    "\n",
    "Complete this homework by writing R code to complete the following tasks. Keep in mind:\n",
    "\n",
    "i. Empty chunks have been included where code is required\n",
    "ii. This homework requires use of data files:\n",
    "\n",
    "  - `BRCA.genome_wide_snp_6_broad_Level_3_scna.seg` (Problems 1, 2)\n",
    "  - `GIAB_highconf_v.3.3.2.vcf.gz` (Problem 3)\n",
    "  \n",
    "iv. You will be graded on your code and output results. The assignment is worth 42 points total; partial credit can be awarded.\n",
    "\n",
    "For additional resources, please refer to these links:  \n",
    "Problems 1 & 2:  \n",
    "  - https://www.bioconductor.org/packages/devel/bioc/vignettes/plyranges/inst/doc/an-introduction.html\n",
    "  - https://bioconductor.org/packages/release/bioc/vignettes/GenomicRanges/inst/doc/GenomicRangesIntroduction.html  \n",
    "Problem 3:  \n",
    "  - https://bioconductor.org/packages/release/bioc/vignettes/Rsamtools/inst/doc/Rsamtools-Overview.pdf  \n",
    "Problem 4: \n",
    "  - https://bioconductor.org/packages/release/bioc/vignettes/VariantAnnotation/inst/doc/VariantAnnotation.pdf  \n",
    "\n",
    "# Problem 1: Overlaps between genomic regions and copy number alterations. (14 points total)\n",
    "\n",
    "### Preparation\n",
    "Load copy number segment results as shown in *2.1 BED format* of *Lecture16_GenomicData.Rmd*. You will use the same file as in the lecture notes, `BRCA.genome_wide_snp_6_broad_Level_3_scna.seg`. Here is code to get you started."
   ]
  },
  {
   "cell_type": "code",
   "execution_count": 2,
   "id": "0860111c-c185-4db0-a325-74242df5cb77",
   "metadata": {
    "vscode": {
     "languageId": "r"
    }
   },
   "outputs": [],
   "source": [
    "#load packages\n",
    "suppressPackageStartupMessages({\n",
    "    library(tidyverse)\n",
    "    library(GenomicRanges)\n",
    "    library(plyranges)\n",
    "    library(VariantAnnotation)\n",
    "})"
   ]
  },
  {
   "cell_type": "code",
   "execution_count": 3,
   "id": "c16b4e1f-d699-4706-b86f-381e0424ceb8",
   "metadata": {
    "vscode": {
     "languageId": "r"
    }
   },
   "outputs": [],
   "source": [
    "segs <- read.delim(\"BRCA.genome_wide_snp_6_broad_Level_3_scna.seg\", as.is = TRUE)\n",
    "mode(segs$Chromosome) <- \"character\"\n",
    "segs[segs$Chromosome == 23, \"Chromosome\"] <- \"X\"\n",
    "segs.gr <- as(segs, \"GRanges\")"
   ]
  },
  {
   "cell_type": "markdown",
   "id": "fb312886-34f9-4e60-98e1-cb947991cb01",
   "metadata": {},
   "source": [
    "### a. Find the segments in `segs.gr` that have *any* overlap with the region `chr8:128,746,347-128,755,810` (4 points)\n",
    "Print out the first five unique TCGA IDs."
   ]
  },
  {
   "cell_type": "code",
   "execution_count": null,
   "id": "994e3f59-c2fd-4d08-9935-8236fd6242f9",
   "metadata": {
    "vscode": {
     "languageId": "r"
    }
   },
   "outputs": [
    {
     "name": "stdout",
     "output_type": "stream",
     "text": [
      "[1] \"First five unique TCGA IDs:\"\n",
      "[1] \"TCGA-3C-AAAU-10A-01D-A41E-01\" \"TCGA-3C-AAAU-01A-11D-A41E-01\"\n",
      "[3] \"TCGA-3C-AALI-10A-01D-A41E-01\" \"TCGA-3C-AALI-01A-11D-A41E-01\"\n",
      "[5] \"TCGA-3C-AALJ-10A-01D-A41E-01\"\n"
     ]
    }
   ],
   "source": [
    "# create GRanges object for that range\n",
    "grange <- GRanges(seqnames = \"8\",\n",
    "                    ranges = IRanges(start = 128746347, end = 128755810))\n",
    "\n",
    "segs.overlap <- find_overlaps(segs.gr, grange)\n",
    "print(\"First five unique TCGA IDs:\")\n",
    "print(segs.overlap$Sample[1:5])"
   ]
  },
  {
   "cell_type": "markdown",
   "id": "718c0180-55cb-411c-af90-9b091e51d091",
   "metadata": {},
   "source": [
    "### b. Find the mean of the `Segment_Mean` values for copy number segments that have *any* overlap with the region chr17:37,842,337-37,886,915. (4 points)"
   ]
  },
  {
   "cell_type": "code",
   "execution_count": null,
   "id": "3962ce70-3f45-4d6c-ad68-4f3cd5bf65a9",
   "metadata": {
    "vscode": {
     "languageId": "r"
    }
   },
   "outputs": [
    {
     "name": "stdout",
     "output_type": "stream",
     "text": [
      "[1] \"Mean of Segment_Mean values:\"\n",
      "[1] 0.2577407\n"
     ]
    }
   ],
   "source": [
    "# create GRanges object for that range\n",
    "grange <- GRanges(seqnames = \"17\",\n",
    "                    ranges = IRanges(start = 37842337, end = 137886915))\n",
    "\n",
    "# find overlap\n",
    "segs.overlap <- find_overlaps(segs.gr, grange)\n",
    "\n",
    "print(\"Mean of Segment_Mean values:\")\n",
    "print(mean(segs.overlap$Segment_Mean))"
   ]
  },
  {
   "cell_type": "markdown",
   "id": "6801dbdd-5e78-478d-a522-edebb9cf102b",
   "metadata": {},
   "source": [
    "### c. Find the patient sample distribution of copy number for `PIK3CA` (hg19). (6 points)\n",
    "Find the counts of samples with deletion (D; `Segment_Mean < -0.3`), neutral (N; `Segment_Mean >= -0.3 & Segment_Mean <= 0.3`), gain (G; `Segment_Mean > 0.3`) segments that have `any` overlap with `PIK3CA` gene coordinates.  \n"
   ]
  },
  {
   "cell_type": "code",
   "execution_count": 48,
   "id": "acf1096b-3275-4a8b-b522-71f0d5f31ab3",
   "metadata": {
    "vscode": {
     "languageId": "r"
    }
   },
   "outputs": [
    {
     "data": {
      "text/html": [
       "<table class=\"dataframe\">\n",
       "<caption>A tibble: 3 × 2</caption>\n",
       "<thead>\n",
       "\t<tr><th scope=col>mutation_type</th><th scope=col>count</th></tr>\n",
       "\t<tr><th scope=col>&lt;chr&gt;</th><th scope=col>&lt;int&gt;</th></tr>\n",
       "</thead>\n",
       "<tbody>\n",
       "\t<tr><td>D</td><td>  17</td></tr>\n",
       "\t<tr><td>G</td><td> 185</td></tr>\n",
       "\t<tr><td>N</td><td>2026</td></tr>\n",
       "</tbody>\n",
       "</table>\n"
      ],
      "text/latex": [
       "A tibble: 3 × 2\n",
       "\\begin{tabular}{ll}\n",
       " mutation\\_type & count\\\\\n",
       " <chr> & <int>\\\\\n",
       "\\hline\n",
       "\t D &   17\\\\\n",
       "\t G &  185\\\\\n",
       "\t N & 2026\\\\\n",
       "\\end{tabular}\n"
      ],
      "text/markdown": [
       "\n",
       "A tibble: 3 × 2\n",
       "\n",
       "| mutation_type &lt;chr&gt; | count &lt;int&gt; |\n",
       "|---|---|\n",
       "| D |   17 |\n",
       "| G |  185 |\n",
       "| N | 2026 |\n",
       "\n"
      ],
      "text/plain": [
       "  mutation_type count\n",
       "1 D               17 \n",
       "2 G              185 \n",
       "3 N             2026 "
      ]
     },
     "metadata": {},
     "output_type": "display_data"
    }
   ],
   "source": [
    "# the PIK3CA gene is located on hg19 chr3:178,866,145-178,957,881 (https://genome.ucsc.edu/cgi-bin/hgGene?showAllCtdRef=Y&db=hg19&hgg_gene=PIK3CA)\n",
    "\n",
    "pik3ca_grange <- GRanges(seqnames = \"3\",\n",
    "                    ranges = IRanges(start = 178866145, end = 178957881))\n",
    "\n",
    "pik3ca_overlap <- find_overlaps(segs.gr, pik3ca_grange)\n",
    "pik3ca_overlap %>%\n",
    "    as_tibble() %>%\n",
    "    mutate(mutation_type = case_when( # solution from https://stackoverflow.com/questions/36003699/how-can-i-create-a-new-column-based-on-conditional-statements-and-dplyr\n",
    "        Segment_Mean < -0.3 ~ \"D\",\n",
    "        Segment_Mean >= -0.3 & Segment_Mean <= 0.3 ~ \"N\",\n",
    "        Segment_Mean > 0.3 ~ \"G\"\n",
    "    )) %>%\n",
    "    group_by(mutation_type) %>%\n",
    "    summarize(count = n())"
   ]
  },
  {
   "cell_type": "markdown",
   "id": "9b119c29-e953-412e-8585-5a67568e02e3",
   "metadata": {},
   "source": [
    "# Problem 2: Frequency of copy number alteration events within genomic regions. (12 points total) \n",
    "\n",
    "This problem will continue to use the copy number data stored in `segs.gr`.\n",
    "\n",
    "### a. Create a genome-wide tile of 1Mb windows for the human genome (`hg19`). (6 points)\n",
    "See *3.1 Tiling the genome* of *Lecture16_GenomicData.Rmd* for hints.\n"
   ]
  },
  {
   "cell_type": "code",
   "execution_count": 49,
   "id": "11d9150e-c199-4cf9-8e2f-399f57e06cc8",
   "metadata": {
    "vscode": {
     "languageId": "r"
    }
   },
   "outputs": [
    {
     "name": "stderr",
     "output_type": "stream",
     "text": [
      "Warning message in (function (seqlevels, genome, new_style) :\n",
      "“cannot switch some of hg19's seqlevels from UCSC to NCBI style”\n"
     ]
    },
    {
     "data": {
      "text/plain": [
       "GRanges object with 3114 ranges and 0 metadata columns:\n",
       "         seqnames            ranges strand\n",
       "            <Rle>         <IRanges>  <Rle>\n",
       "     [1]        1         1-1000000      *\n",
       "     [2]        1   1000001-2000000      *\n",
       "     [3]        1   2000001-3000000      *\n",
       "     [4]        1   3000001-4000000      *\n",
       "     [5]        1   4000001-5000000      *\n",
       "     ...      ...               ...    ...\n",
       "  [3110]        Y 56000001-57000000      *\n",
       "  [3111]        Y 57000001-58000000      *\n",
       "  [3112]        Y 58000001-59000000      *\n",
       "  [3113]        Y 59000001-59373566      *\n",
       "  [3114]     chrM           1-16571      *\n",
       "  -------\n",
       "  seqinfo: 25 sequences from an unspecified genome"
      ]
     },
     "metadata": {},
     "output_type": "display_data"
    }
   ],
   "source": [
    "seqinfo <- Seqinfo(genome = \"hg19\")\n",
    "seqinfo <- keepStandardChromosomes(seqinfo)\n",
    "seqlevelsStyle(seqinfo) <- \"NCBI\"\n",
    "slen <- seqlengths(seqinfo) # get the length of the chromosomes\n",
    "tileWidth <- 1000000 # tile size of 1 Mb\n",
    "tiles <- tileGenome(seqlengths = slen, tilewidth = tileWidth,\n",
    "                    cut.last.tile.in.chrom = TRUE)\n",
    "tiles"
   ]
  },
  {
   "cell_type": "markdown",
   "id": "3601482e-48d6-41dc-9ba9-475f93ef5248",
   "metadata": {},
   "source": [
    "### b. Find the 1Mb window with the most frequent overlapping deletions. (6 points)\n",
    "Find the 1Mb windows with `any` overlap with deletion copy number segments. Assume a deletion segment is defined as a segment in `segs.gr` having `Segment_Mean < -0.3`. \n",
    "\n",
    "Return one of the 1Mb window `Granges` entry with the highest frequency (count) of deletion segments.\n",
    "\n",
    "Hint: Subset the `segs.gr` to only rows with `Segment_Mean < -0.3`. "
   ]
  },
  {
   "cell_type": "code",
   "execution_count": 65,
   "id": "a9b4eab5",
   "metadata": {
    "vscode": {
     "languageId": "r"
    }
   },
   "outputs": [
    {
     "name": "stderr",
     "output_type": "stream",
     "text": [
      "\u001b[1m\u001b[22m`summarise()` has grouped output by 'seqnames', 'start'. You can override using\n",
      "the `.groups` argument.\n"
     ]
    },
    {
     "data": {
      "text/html": [
       "<table class=\"dataframe\">\n",
       "<caption>A grouped_df: 1 × 4</caption>\n",
       "<thead>\n",
       "\t<tr><th scope=col>seqnames</th><th scope=col>start</th><th scope=col>end</th><th scope=col>count</th></tr>\n",
       "\t<tr><th scope=col>&lt;fct&gt;</th><th scope=col>&lt;int&gt;</th><th scope=col>&lt;int&gt;</th><th scope=col>&lt;int&gt;</th></tr>\n",
       "</thead>\n",
       "<tbody>\n",
       "\t<tr><td>16</td><td>79000001</td><td>80000000</td><td>620</td></tr>\n",
       "</tbody>\n",
       "</table>\n"
      ],
      "text/latex": [
       "A grouped\\_df: 1 × 4\n",
       "\\begin{tabular}{llll}\n",
       " seqnames & start & end & count\\\\\n",
       " <fct> & <int> & <int> & <int>\\\\\n",
       "\\hline\n",
       "\t 16 & 79000001 & 80000000 & 620\\\\\n",
       "\\end{tabular}\n"
      ],
      "text/markdown": [
       "\n",
       "A grouped_df: 1 × 4\n",
       "\n",
       "| seqnames &lt;fct&gt; | start &lt;int&gt; | end &lt;int&gt; | count &lt;int&gt; |\n",
       "|---|---|---|---|\n",
       "| 16 | 79000001 | 80000000 | 620 |\n",
       "\n"
      ],
      "text/plain": [
       "  seqnames start    end      count\n",
       "1 16       79000001 80000000 620  "
      ]
     },
     "metadata": {},
     "output_type": "display_data"
    }
   ],
   "source": [
    "overlaps <- find_overlaps(tiles, segs.gr) %>%\n",
    "    as_tibble() %>%\n",
    "    filter(Segment_Mean < -0.3) %>%\n",
    "    group_by(seqnames, start, end) %>%\n",
    "    summarize(count = n()) %>%\n",
    "    arrange(desc(count)) %>%\n",
    "    head(1)\n",
    "\n",
    "overlaps"
   ]
  },
  {
   "cell_type": "markdown",
   "id": "4021471d-985d-4799-879f-430f2449003c",
   "metadata": {
    "tags": []
   },
   "source": [
    "# Problem 3: Reading and annotating genomic variants (16 points total)\n",
    "\n",
    "### Preparation"
   ]
  },
  {
   "cell_type": "code",
   "execution_count": 81,
   "id": "8c7719ca-d70f-4deb-9e1b-afc16586501f",
   "metadata": {
    "vscode": {
     "languageId": "r"
    }
   },
   "outputs": [],
   "source": [
    "vcfFile <- \"GIAB_highconf_v.3.3.2.vcf.gz\""
   ]
  },
  {
   "cell_type": "markdown",
   "id": "eb4f7577-631d-42be-8413-3752869511a1",
   "metadata": {},
   "source": [
    "### a. Load variant data from VCF file `GIAB_highconf_v.3.3.2.vcf.gz` for `chr8:128,700,000-129,000,000`. (4 points)\n",
    "Note: use genome build `hg19`."
   ]
  },
  {
   "cell_type": "code",
   "execution_count": 83,
   "id": "d57ee51f-26a9-4ec0-9766-92ae74dbf36e",
   "metadata": {
    "vscode": {
     "languageId": "r"
    }
   },
   "outputs": [],
   "source": [
    "myGRange <- GRanges(seqnames = \"8\", ranges = IRanges(start = 128700000, end = 129000000))\n",
    "vcf.param <- ScanVcfParam(which = myGRange)\n",
    "\n",
    "vcf <- readVcf(vcfFile, genome = \"hg19\", param = vcf.param)"
   ]
  },
  {
   "cell_type": "markdown",
   "id": "cf96e3ff-0558-40b2-8d3e-8abd8508a766",
   "metadata": {},
   "source": [
    "### b. Combine the fields of the VCF genotype information into a table. (4 points)\n",
    "You may use your choice of data objects (e.g. `data.frame`)."
   ]
  },
  {
   "cell_type": "code",
   "execution_count": 98,
   "id": "8a2902dd-a1c4-4fc6-a541-47b2b133af00",
   "metadata": {
    "vscode": {
     "languageId": "r"
    }
   },
   "outputs": [
    {
     "name": "stderr",
     "output_type": "stream",
     "text": [
      "\u001b[1m\u001b[22mNew names:\n",
      "\u001b[36m•\u001b[39m `HG001` -> `HG001...1`\n",
      "\u001b[36m•\u001b[39m `HG001` -> `HG001...2`\n",
      "\u001b[36m•\u001b[39m `HG001` -> `HG001...3`\n",
      "\u001b[36m•\u001b[39m `HG001` -> `HG001...4`\n",
      "\u001b[36m•\u001b[39m `HG001` -> `HG001...5`\n",
      "\u001b[36m•\u001b[39m `HG001` -> `HG001...6`\n",
      "\u001b[36m•\u001b[39m `HG001` -> `HG001...7`\n",
      "\u001b[36m•\u001b[39m `HG001` -> `HG001...8`\n"
     ]
    },
    {
     "data": {
      "text/html": [
       "<table class=\"dataframe\">\n",
       "<caption>A data.frame: 6 × 8</caption>\n",
       "<thead>\n",
       "\t<tr><th></th><th scope=col>GT</th><th scope=col>DP</th><th scope=col>GQ</th><th scope=col>ADALL</th><th scope=col>AD</th><th scope=col>IGT</th><th scope=col>IPS</th><th scope=col>PS</th></tr>\n",
       "\t<tr><th></th><th scope=col>&lt;chr&gt;</th><th scope=col>&lt;int&gt;</th><th scope=col>&lt;int&gt;</th><th scope=col>&lt;named list&gt;</th><th scope=col>&lt;named list&gt;</th><th scope=col>&lt;chr&gt;</th><th scope=col>&lt;chr&gt;</th><th scope=col>&lt;chr&gt;</th></tr>\n",
       "</thead>\n",
       "<tbody>\n",
       "\t<tr><th scope=row>rs6984323</th><td>1|1</td><td>765</td><td> 583</td><td>1, 332</td><td>0, 315</td><td>1/1</td><td>.</td><td>PATMAT</td></tr>\n",
       "\t<tr><th scope=row>rs4478537</th><td>0|1</td><td>544</td><td> 813</td><td>103, 124</td><td>135, 172</td><td>0/1</td><td>.</td><td>PATMAT</td></tr>\n",
       "\t<tr><th scope=row>rs34141920</th><td>0|1</td><td>523</td><td> 222</td><td>132, 121</td><td>132, 121</td><td>0/1</td><td>.</td><td>PATMAT</td></tr>\n",
       "\t<tr><th scope=row>rs17772814</th><td>1|0</td><td>695</td><td>1503</td><td>143, 158</td><td>196, 199</td><td>0/1</td><td>.</td><td>PATMAT</td></tr>\n",
       "\t<tr><th scope=row>rs77977256</th><td>1|0</td><td>642</td><td> 685</td><td>154, 157</td><td>160, 166</td><td>0/1</td><td>.</td><td>PATMAT</td></tr>\n",
       "\t<tr><th scope=row>8:128715845_AT/A</th><td>0|1</td><td>368</td><td>  99</td><td>66, 91</td><td>66, 91</td><td>0/1</td><td>.</td><td>PATMAT</td></tr>\n",
       "</tbody>\n",
       "</table>\n"
      ],
      "text/latex": [
       "A data.frame: 6 × 8\n",
       "\\begin{tabular}{r|llllllll}\n",
       "  & GT & DP & GQ & ADALL & AD & IGT & IPS & PS\\\\\n",
       "  & <chr> & <int> & <int> & <named list> & <named list> & <chr> & <chr> & <chr>\\\\\n",
       "\\hline\n",
       "\trs6984323 & 1\\textbar{}1 & 765 &  583 & 1, 332 & 0, 315 & 1/1 & . & PATMAT\\\\\n",
       "\trs4478537 & 0\\textbar{}1 & 544 &  813 & 103, 124 & 135, 172 & 0/1 & . & PATMAT\\\\\n",
       "\trs34141920 & 0\\textbar{}1 & 523 &  222 & 132, 121 & 132, 121 & 0/1 & . & PATMAT\\\\\n",
       "\trs17772814 & 1\\textbar{}0 & 695 & 1503 & 143, 158 & 196, 199 & 0/1 & . & PATMAT\\\\\n",
       "\trs77977256 & 1\\textbar{}0 & 642 &  685 & 154, 157 & 160, 166 & 0/1 & . & PATMAT\\\\\n",
       "\t8:128715845\\_AT/A & 0\\textbar{}1 & 368 &   99 & 66, 91 & 66, 91 & 0/1 & . & PATMAT\\\\\n",
       "\\end{tabular}\n"
      ],
      "text/markdown": [
       "\n",
       "A data.frame: 6 × 8\n",
       "\n",
       "| <!--/--> | GT &lt;chr&gt; | DP &lt;int&gt; | GQ &lt;int&gt; | ADALL &lt;named list&gt; | AD &lt;named list&gt; | IGT &lt;chr&gt; | IPS &lt;chr&gt; | PS &lt;chr&gt; |\n",
       "|---|---|---|---|---|---|---|---|---|\n",
       "| rs6984323 | 1|1 | 765 |  583 | 1, 332 | 0, 315 | 1/1 | . | PATMAT |\n",
       "| rs4478537 | 0|1 | 544 |  813 | 103, 124 | 135, 172 | 0/1 | . | PATMAT |\n",
       "| rs34141920 | 0|1 | 523 |  222 | 132, 121 | 132, 121 | 0/1 | . | PATMAT |\n",
       "| rs17772814 | 1|0 | 695 | 1503 | 143, 158 | 196, 199 | 0/1 | . | PATMAT |\n",
       "| rs77977256 | 1|0 | 642 |  685 | 154, 157 | 160, 166 | 0/1 | . | PATMAT |\n",
       "| 8:128715845_AT/A | 0|1 | 368 |   99 | 66, 91 | 66, 91 | 0/1 | . | PATMAT |\n",
       "\n"
      ],
      "text/plain": [
       "                 GT  DP  GQ   ADALL    AD       IGT IPS PS    \n",
       "rs6984323        1|1 765  583 1, 332   0, 315   1/1 .   PATMAT\n",
       "rs4478537        0|1 544  813 103, 124 135, 172 0/1 .   PATMAT\n",
       "rs34141920       0|1 523  222 132, 121 132, 121 0/1 .   PATMAT\n",
       "rs17772814       1|0 695 1503 143, 158 196, 199 0/1 .   PATMAT\n",
       "rs77977256       1|0 642  685 154, 157 160, 166 0/1 .   PATMAT\n",
       "8:128715845_AT/A 0|1 368   99 66, 91   66, 91   0/1 .   PATMAT"
      ]
     },
     "metadata": {},
     "output_type": "display_data"
    }
   ],
   "source": [
    "genoData <- bind_cols(lapply(geno(vcf), as.data.frame))\n",
    "colnames(genoData) <- rownames(geno(header(vcf)))\n",
    "head(genoData)"
   ]
  },
  {
   "cell_type": "markdown",
   "id": "866dc73a-e254-4605-9d8c-750fdafba481",
   "metadata": {},
   "source": [
    "### c. Retrieve the following information at chr8:128747953. (8 points)\n",
    "Print out the SNP ID (i.e. \"rs ID\"), reference base (`REF`), alterate base (`ALT`), genotype (`GT`), depth (`DP`), allele depth (`ADALL`), phase set (`PS`).\n",
    "\n",
    "Hints: \n",
    "\n",
    "  i. `REF` and `ALT` are in the output of `rowRanges(vcf)`. See Section `3a` in `Lecture16_VariantCalls.ipynb` \n",
    "  ii. To get the sequence of `DNAString`, use `as.character(x)`.  \n",
    "  ii. To get the sequence of `DNAStringSet`, use `as.character(unlist(x))`. \n",
    "  iii. To expand a list of information for `geno`, use `unlist(x)`.  \n",
    "\n",
    "  "
   ]
  },
  {
   "cell_type": "code",
   "execution_count": null,
   "id": "fa8d8ad6-7d4b-43f2-a3ae-25a86be3d243",
   "metadata": {
    "vscode": {
     "languageId": "r"
    }
   },
   "outputs": [
    {
     "data": {
      "text/html": [
       "<table class=\"dataframe\">\n",
       "<caption>A data.frame: 1 × 7</caption>\n",
       "<thead>\n",
       "\t<tr><th scope=col>rs_id</th><th scope=col>REF</th><th scope=col>ALT</th><th scope=col>GT</th><th scope=col>DP</th><th scope=col>ADALL</th><th scope=col>PS</th></tr>\n",
       "\t<tr><th scope=col>&lt;chr&gt;</th><th scope=col>&lt;chr&gt;</th><th scope=col>&lt;I&lt;list&gt;&gt;</th><th scope=col>&lt;chr&gt;</th><th scope=col>&lt;int&gt;</th><th scope=col>&lt;named list&gt;</th><th scope=col>&lt;chr&gt;</th></tr>\n",
       "</thead>\n",
       "<tbody>\n",
       "\t<tr><td>rs3824120</td><td>G</td><td>T</td><td>0|1</td><td>461</td><td>105, 94</td><td>PATMAT</td></tr>\n",
       "</tbody>\n",
       "</table>\n"
      ],
      "text/latex": [
       "A data.frame: 1 × 7\n",
       "\\begin{tabular}{lllllll}\n",
       " rs\\_id & REF & ALT & GT & DP & ADALL & PS\\\\\n",
       " <chr> & <chr> & <I<list>> & <chr> & <int> & <named list> & <chr>\\\\\n",
       "\\hline\n",
       "\t rs3824120 & G & T & 0\\textbar{}1 & 461 & 105, 94 & PATMAT\\\\\n",
       "\\end{tabular}\n"
      ],
      "text/markdown": [
       "\n",
       "A data.frame: 1 × 7\n",
       "\n",
       "| rs_id &lt;chr&gt; | REF &lt;chr&gt; | ALT &lt;I&lt;list&gt;&gt; | GT &lt;chr&gt; | DP &lt;int&gt; | ADALL &lt;named list&gt; | PS &lt;chr&gt; |\n",
       "|---|---|---|---|---|---|---|\n",
       "| rs3824120 | G | T | 0|1 | 461 | 105, 94 | PATMAT |\n",
       "\n"
      ],
      "text/plain": [
       "  rs_id     REF ALT GT  DP  ADALL   PS    \n",
       "1 rs3824120 G   T   0|1 461 105, 94 PATMAT"
      ]
     },
     "metadata": {},
     "output_type": "display_data"
    }
   ],
   "source": [
    "# Method 1 - using the dataframe created in b\n",
    "vcf_df <- rowRanges(vcf) %>%\n",
    "    as.data.frame()\n",
    "vcf_df <- mutate(vcf_df, rs_id = rownames(vcf_df))\n",
    "genoData <- mutate(genoData, rs_id = rownames(genoData))\n",
    "vcf_df %>%\n",
    "    inner_join(genoData, by = \"rs_id\") %>%\n",
    "    filter(start == 128747953) %>%\n",
    "    dplyr::select(rs_id, REF, ALT, GT, DP, ADALL, PS)"
   ]
  },
  {
   "cell_type": "code",
   "execution_count": null,
   "id": "7ba7cad3",
   "metadata": {
    "vscode": {
     "languageId": "r"
    }
   },
   "outputs": [
    {
     "name": "stdout",
     "output_type": "stream",
     "text": [
      "[1] \"SNP ID: rs3824120\"\n",
      "[1] \"REF: G\"\n",
      "[1] \"ALT: T\"\n",
      "[1] \"GT: 0|1\"\n",
      "[1] \"DP: 461\"\n",
      "[1] \"ADALL:\"\n",
      "[1] 105  94\n",
      "[1] \"PS: PATMAT\"\n"
     ]
    }
   ],
   "source": [
    "# Method 2 - read variants only at that location\n",
    "myGRange <- GRanges(seqnames = \"8\", ranges = IRanges(start = 128747953, end = 128747953))\n",
    "vcf.param <- ScanVcfParam(which = myGRange)\n",
    "vcf <- readVcf(vcfFile, genome = \"hg19\", param = vcf.param)\n",
    "print(paste(\"SNP ID:\", names(rowRanges(vcf))))\n",
    "print(paste(\"REF:\", rowRanges(vcf)$REF))\n",
    "print(paste(\"ALT:\", as.character(unlist(rowRanges(vcf)$ALT))))\n",
    "print(paste(\"GT:\", geno(vcf)$GT))\n",
    "print(paste(\"DP:\", geno(vcf)$DP))\n",
    "print(\"ADALL:\")\n",
    "print(unlist(geno(vcf)$ADALL))\n",
    "print(paste(\"PS:\", geno(vcf)$PS))"
   ]
  }
 ],
 "metadata": {
  "kernelspec": {
   "display_name": "R",
   "language": "R",
   "name": "ir"
  },
  "language_info": {
   "codemirror_mode": "r",
   "file_extension": ".r",
   "mimetype": "text/x-r-source",
   "name": "R",
   "pygments_lexer": "r",
   "version": "4.1.3"
  }
 },
 "nbformat": 4,
 "nbformat_minor": 5
}
