{
 "cells": [
  {
   "cell_type": "markdown",
   "metadata": {},
   "source": [
    "# Data exploration with pandas and sklearn\n",
    "\n",
    "## The goal of this homework is to discover structure in an unlabeled dataset. The observations in this dataset belong to several different clusters. The specific goal is to identify how many clusters there are and to which cluster each point belongs."
   ]
  },
  {
   "cell_type": "markdown",
   "metadata": {},
   "source": [
    "## Question 1 (5 points). Load the dataset into a pandas dataframe. Each row represents a single observation; the values in the columns are numeric features recorded for that observation (in other words, this is a 'tidy' dataset). How many rows and columns are there? What is the dimension of this dataset? In other words, how many different features are there for each observation?"
   ]
  },
  {
   "cell_type": "code",
   "execution_count": 16,
   "metadata": {},
   "outputs": [
    {
     "name": "stdout",
     "output_type": "stream",
     "text": [
      "The dataset has 496 rows and 10 columns\n"
     ]
    }
   ],
   "source": [
    "# you could start with something like this...\n",
    "%matplotlib inline\n",
    "import matplotlib.pyplot as plt # for plotting\n",
    "import pandas as pd # pandas\n",
    "\n",
    "datafile = 'data/dataset.csv'\n",
    "\n",
    "df = pd.read_csv(datafile) # df for dataframe but you can call it whatever you like\n",
    "\n",
    "print(\"The dataset has\", df.shape[0], \"rows and\", df.shape[1], \"columns\")"
   ]
  },
  {
   "cell_type": "markdown",
   "metadata": {},
   "source": [
    "## Question 2 (5 points). Make a scatter plot of `dim1` versus `dim2`, ie the first column versus the second one. How many clusters do you see in this plot?"
   ]
  },
  {
   "cell_type": "code",
   "execution_count": null,
   "metadata": {},
   "outputs": [
    {
     "data": {
      "text/plain": [
       "<matplotlib.collections.PathCollection at 0x7fffdb178640>"
      ]
     },
     "execution_count": 18,
     "metadata": {},
     "output_type": "execute_result"
    },
    {
     "data": {
      "image/png": "[encoded data removed]",
      "text/plain": [
       "<Figure size 432x288 with 1 Axes>"
      ]
     },
     "metadata": {
      "needs_background": "light"
     },
     "output_type": "display_data"
    }
   ],
   "source": [
    "# You could use either\n",
    "#\n",
    "#plt.scatter(xvals, yvals) #with appropriate choices for xvals and yvals (see lecture 10 for examples)\n",
    "#\n",
    "# or\n",
    "#\n",
    "#df.plot.scatter(...) #filling in the \"...\"\n",
    "#\n",
    "# recall that df['dim1'] returns the single column of values in the 'dim1' column\n",
    "#\n",
    "plt.scatter(df['dim1'], df['dim2'])"
   ]
  },
  {
   "cell_type": "markdown",
   "metadata": {},
   "source": [
    "There are three clusters"
   ]
  },
  {
   "cell_type": "markdown",
   "metadata": {},
   "source": [
    "## Question 3 (15 points). Perform principal components analysis (PCA) on the dataset, following along with the example in the lectures10and11 notebook. What fraction of the variation in the dataset is captured by the first two components? Make a plot of the first component against the second component. Now how many clusters do you see in the data? (2 points extra credit if you standardize the data first using `sklearn.preprocessing.StandardScaler`; see the lectures10and11 notebook for an example of how to do that.)"
   ]
  },
  {
   "cell_type": "code",
   "execution_count": 20,
   "metadata": {},
   "outputs": [
    {
     "data": {
      "text/plain": [
       "<bound method NDFrame.head of        dim1    dim2    dim3    dim4    dim5    dim6    dim7    dim8    dim9  \\\n",
       "0     3.371  16.877  15.345   8.080   8.510  14.404   5.904  -0.368  11.604   \n",
       "1    11.765  18.278   9.311   4.095  13.699   1.487  16.061   7.425   5.981   \n",
       "2     3.966   2.498   9.110  12.823  -0.337  15.771   5.326  18.289  12.466   \n",
       "3    11.498  16.627  10.134   3.632  13.124   1.083  17.141   8.624   6.133   \n",
       "4    12.262  18.252  10.158   4.073  14.841   2.451  15.654   8.131   5.142   \n",
       "..      ...     ...     ...     ...     ...     ...     ...     ...     ...   \n",
       "491  12.001  18.166   9.695   3.458  14.827   1.261  16.496   8.015   5.047   \n",
       "492  12.440  17.676   9.743   3.566  14.047   1.006  16.271   7.548   5.434   \n",
       "493  11.954  17.943  10.675   3.549  13.317   2.244  16.153   8.085   5.463   \n",
       "494  12.437  18.111  10.817   4.416  14.656   2.432  15.519   7.902   6.377   \n",
       "495   0.110  17.494   3.912   4.218   9.507  16.815   1.395  13.720   8.260   \n",
       "\n",
       "      dim10  \n",
       "0     3.321  \n",
       "1    -0.338  \n",
       "2     9.633  \n",
       "3     0.015  \n",
       "4    -0.079  \n",
       "..      ...  \n",
       "491   0.119  \n",
       "492   0.060  \n",
       "493   0.408  \n",
       "494   1.002  \n",
       "495  12.724  \n",
       "\n",
       "[496 rows x 10 columns]>"
      ]
     },
     "execution_count": 20,
     "metadata": {},
     "output_type": "execute_result"
    }
   ],
   "source": [
    "df.head"
   ]
  },
  {
   "cell_type": "code",
   "execution_count": 35,
   "metadata": {},
   "outputs": [
    {
     "name": "stdout",
     "output_type": "stream",
     "text": [
      "The fraction of the total variance explained by the first two components: [0.7736375 0.159209 ]\n"
     ]
    },
    {
     "data": {
      "image/png": "[encoded data removed]",
      "text/plain": [
       "<Figure size 432x288 with 1 Axes>"
      ]
     },
     "metadata": {
      "needs_background": "light"
     },
     "output_type": "display_data"
    }
   ],
   "source": [
    "# start by importing the PCA class\n",
    "from sklearn.decomposition import PCA\n",
    "\n",
    "# 1. create and configure the model (call it \"pca\")\n",
    "pca = PCA(n_components=10)\n",
    "\n",
    "# 2. fit the model to the data (use pca.fit(...) )\n",
    "pca.fit(df)\n",
    "\n",
    "# 3. look at the model's explained_variance_ratio_ (i.e., pca.explained_variance_ratio_ where pca\n",
    "#    is what you called the PCA object) to see how much variance the top two components capture.\n",
    "print('The fraction of the total variance explained by the first two components:', pca.explained_variance_ratio_[0:2])\n",
    "\n",
    "# 4. transform the data to a new array, call it \"X_pca\" (use pca.transform(...) )\n",
    "X_pca = pca.transform(df)\n",
    "\n",
    "# 5. Plot the first two components, as we did in class.\n",
    "plt.scatter(X_pca[:,0], X_pca[:,1])\n",
    "plt.title('First two principal components')\n",
    "plt.xlabel('PCA1')\n",
    "plt.ylabel('PCA2');\n"
   ]
  },
  {
   "cell_type": "markdown",
   "metadata": {},
   "source": [
    "## Question 4 (15 points). Use the KMeans clustering algorithm from scikit-learn to assign each point in the dataset to a cluster. Configure KMeans to find a number of clusters equal to the number that you identified visually in the PCA plot from question 3. What are the sizes of the different clusters (how many points are in each cluster)? Remake the PCA scatter plot (PC1 versus PC2) colored by the cluster labels."
   ]
  },
  {
   "cell_type": "code",
   "execution_count": null,
   "metadata": {},
   "outputs": [],
   "source": [
    "from sklearn.cluster import KMeans\n",
    "\n",
    "nclust= # answer from Question 3\n",
    "\n",
    "# 1. create a KMeans object, call it kmeans; you'll need to tell it how many clusters to find\n",
    "\n",
    "# 2. fit the object to the data using kmeans.fit\n",
    "\n",
    "# 3. Get the list of clusters using kmeans.predict\n",
    "#    Name the returned array of cluster assignments \"clusters\"\n",
    "\n",
    "# To get the cluster sizes, first look at the array of clusters returned by kmeans.predict\n",
    "#    to see that the different values are integers between 0 and nclust-1, inclusive.\n",
    "\n",
    "# To get the size of each cluster, you could write a for loop over the different cluster\n",
    "# numbers, and inside the loop you could count how many elements in clusters array are\n",
    "# equal to that cluster number. Instead, do it by creating a new column in the dataframe\n",
    "# containing the cluster assignments, and using the pandas method value_counts:\n",
    "\n",
    "df['clusters'] = clusters # create a new column in the dataframe with the KMeans cluster assignments\n",
    "\n",
    "print('cluster sizes:', df['clusters'].value_counts()) # handy built-in counting method for Pandas Series objects\n",
    "\n",
    "# use this code to remake the PCA plot colored by the kmeans clusters, where \"clusters\" is the\n",
    "#  array returned by the kmeans.predict function\n",
    "#plt.scatter( X_pca[:,0], X_pca[:,1], c=clusters )\n",
    "\n"
   ]
  },
  {
   "cell_type": "markdown",
   "metadata": {},
   "source": [
    "## Question 5. (10 points) Make a 'scatter matrix' plot showing each column of the original dataset plotted against each of the other 9 columns in a big 10x10 array (like we did for the iris dataset in the lectures10and11 notebook). Notice how the number of apparent clusters in the data varies depends on which pairs of features are being plotted against one another. Color the plots using the kmeans clusters like you did in the previous question.\n",
    "You could use `pd.plotting.scatter_matrix` or try importing seaborn (`import seaborn as sns`) and use `sns.pairplot`. Or (optional) try both and see which looks nicer. `sns.pairplot` has a `hue` argument that you can use for coloring by passing `hue='clusters'`. See the `pd.plotting.scatter_matrix` and `sns.pairplot` examples in the lectures10and11.ipynb jupyter notebook."
   ]
  },
  {
   "cell_type": "code",
   "execution_count": null,
   "metadata": {},
   "outputs": [],
   "source": [
    "# put your answer here\n"
   ]
  },
  {
   "cell_type": "code",
   "execution_count": null,
   "metadata": {},
   "outputs": [],
   "source": [
    "# and maybe also here if you are trying both and comparing...\n"
   ]
  },
  {
   "cell_type": "markdown",
   "metadata": {},
   "source": [
    "## Question 5. (5 points of extra credit) Use the TSNE algorithm in scikit-learn to project the dataset down into 2 dimensions. How many clusters do you see in the TSNE scatter plot?"
   ]
  },
  {
   "cell_type": "code",
   "execution_count": null,
   "metadata": {},
   "outputs": [],
   "source": [
    "from sklearn.manifold import TSNE\n",
    "\n",
    "# 1. create the TSNE object, call it tsne. Tell it you want 2 components (ie, a 2D projection)\n",
    "\n",
    "# 2. Fit the data to the model and transform to a new array (call it X_tsne) using tsne.fit_transform\n",
    "#     This combines the fit and transform steps into a single operation.\n",
    "\n",
    "\n",
    "# Use this matplotlib command to make a scatter plot of the two components, colored by the\n",
    "#  kmeans cluster assignments\n",
    "#plt.scatter( X_tsne[:,0], X_tsne[:,1], c=clusters )\n"
   ]
  }
 ],
 "metadata": {
  "kernelspec": {
   "display_name": "base",
   "language": "python",
   "name": "python3"
  },
  "language_info": {
   "codemirror_mode": {
    "name": "ipython",
    "version": 3
   },
   "file_extension": ".py",
   "mimetype": "text/x-python",
   "name": "python",
   "nbconvert_exporter": "python",
   "pygments_lexer": "ipython3",
   "version": "3.9.12"
  }
 },
 "nbformat": 4,
 "nbformat_minor": 2
}
